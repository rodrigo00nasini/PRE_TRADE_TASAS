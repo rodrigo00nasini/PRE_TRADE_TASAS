{
 "cells": [
  {
   "cell_type": "markdown",
   "id": "82af860f",
   "metadata": {},
   "source": [
    "# APPEND TASAS"
   ]
  },
  {
   "cell_type": "code",
   "execution_count": 59,
   "id": "edb2889c",
   "metadata": {},
   "outputs": [],
   "source": [
    "import json\n",
    "import pandas as pd\n",
    "import matplotlib.pyplot as plt\n",
    "import seaborn as sns\n",
    "from scipy import stats\n",
    "from scipy.stats import kurtosis, skew,norm\n",
    "from pandas.io.json import json_normalize\n",
    "import numpy as np\n",
    "from FUNCIONES_TASAS import *"
   ]
  },
  {
   "cell_type": "code",
   "execution_count": 60,
   "id": "940be930",
   "metadata": {},
   "outputs": [
    {
     "name": "stderr",
     "output_type": "stream",
     "text": [
      "/Users/rogarciag/Desktop/AI_&_TRADING/ALGORITHMIC_TRADING/PRINCIPAL/NASINI/TRABAJOS_GENERAL/ANALISIS_DATOS/CODIGOS_ANALISIS/FUNCIONES_TASAS.py:22: FutureWarning: pandas.io.json.json_normalize is deprecated, use pandas.json_normalize instead\n",
      "  df_ticker = json_normalize(ticker_data)\n"
     ]
    }
   ],
   "source": [
    "df_1=abrir_datos(url=\"/Users/rogarciag/Desktop/AI_&_TRADING/ALGORITHMIC_TRADING/PRINCIPAL/NASINI/TRABAJOS_GENERAL/ANALISIS_DATOS/BASES_DE_DATOS/DATOS_SEPARADOS/datos_20230419.json\")\n",
    "df_2=abrir_datos(url=\"/Users/rogarciag/Desktop/AI_&_TRADING/ALGORITHMIC_TRADING/PRINCIPAL/NASINI/TRABAJOS_GENERAL/ANALISIS_DATOS/BASES_DE_DATOS/DATOS_SEPARADOS/datos_20230420.json\")\n",
    "df_3=abrir_datos(url=\"/Users/rogarciag/Desktop/AI_&_TRADING/ALGORITHMIC_TRADING/PRINCIPAL/NASINI/TRABAJOS_GENERAL/ANALISIS_DATOS/BASES_DE_DATOS/DATOS_SEPARADOS/datos_20230421.json\")"
   ]
  },
  {
   "cell_type": "code",
   "execution_count": 61,
   "id": "117cf92b",
   "metadata": {},
   "outputs": [],
   "source": [
    "AL30D_N_1 = df_1[df_1['ticker'] == 'AL30D'].reset_index(drop=True)\n",
    "GD30D_N_1 = df_1[df_1['ticker'] == 'GD30D'].reset_index(drop=True)\n",
    "AL30_N_1 = df_1[df_1['ticker'] == 'AL30'].reset_index(drop=True)\n",
    "GD30_N_1 = df_1[df_1['ticker'] == 'GD30'].reset_index(drop=True)"
   ]
  },
  {
   "cell_type": "code",
   "execution_count": 62,
   "id": "66770549",
   "metadata": {},
   "outputs": [],
   "source": [
    "AL30D_N_2 = df_2[df_2['ticker'] == 'AL30D'].reset_index(drop=True)\n",
    "GD30D_N_2 = df_2[df_2['ticker'] == 'GD30D'].reset_index(drop=True)\n",
    "AL30_N_2 = df_2[df_2['ticker'] == 'AL30'].reset_index(drop=True)\n",
    "GD30_N_2 = df_2[df_2['ticker'] == 'GD30'].reset_index(drop=True)"
   ]
  },
  {
   "cell_type": "code",
   "execution_count": 63,
   "id": "bfd1b975",
   "metadata": {},
   "outputs": [],
   "source": [
    "AL30D_N_3 = df_3[df_3['ticker'] == 'AL30D'].reset_index(drop=True)\n",
    "GD30D_N_3 = df_3[df_3['ticker'] == 'GD30D'].reset_index(drop=True)\n",
    "AL30_N_3 = df_3[df_3['ticker'] == 'AL30'].reset_index(drop=True)\n",
    "GD30_N_3 = df_3[df_3['ticker'] == 'GD30'].reset_index(drop=True)"
   ]
  },
  {
   "cell_type": "code",
   "execution_count": 64,
   "id": "b1a298c1",
   "metadata": {},
   "outputs": [],
   "source": [
    "AL30D_N_1=limpiar_datos_tasas(AL30D_N_1)\n",
    "AL30_N_1=limpiar_datos_tasas(AL30_N_1)\n",
    "GD30D_N_1=limpiar_datos_tasas(GD30D_N_1)\n",
    "GD30_N_1=limpiar_datos_tasas(GD30_N_1)"
   ]
  },
  {
   "cell_type": "code",
   "execution_count": 65,
   "id": "efd86564",
   "metadata": {},
   "outputs": [],
   "source": [
    "AL30D_N_2=limpiar_datos_tasas(AL30D_N_2)\n",
    "AL30_N_2=limpiar_datos_tasas(AL30_N_2)\n",
    "GD30D_N_2=limpiar_datos_tasas(GD30D_N_2)\n",
    "GD30_N_2=limpiar_datos_tasas(GD30_N_2)"
   ]
  },
  {
   "cell_type": "code",
   "execution_count": 66,
   "id": "ec1f3051",
   "metadata": {},
   "outputs": [],
   "source": [
    "AL30D_N_3=limpiar_datos_tasas(AL30D_N_3)\n",
    "AL30_N_3=limpiar_datos_tasas(AL30_N_3)\n",
    "GD30D_N_3=limpiar_datos_tasas(GD30D_N_3)\n",
    "GD30_N_3=limpiar_datos_tasas(GD30_N_3)"
   ]
  },
  {
   "cell_type": "code",
   "execution_count": 67,
   "id": "c847bb9f",
   "metadata": {},
   "outputs": [],
   "source": [
    "df1 = pd.DataFrame(AL30D_N_1)\n",
    "df2 = pd.DataFrame(AL30D_N_2)\n",
    "df3 = pd.DataFrame(AL30D_N_3)\n",
    "\n",
    "\n",
    "df1['time'] = pd.to_datetime(df1.index, format='%Y-%m-%d|%H:%M:%S.%f')\n",
    "df2['time'] = pd.to_datetime(df2.index, format='%Y-%m-%d|%H:%M:%S.%f')\n",
    "df3['time'] = pd.to_datetime(df3.index, format='%Y-%m-%d|%H:%M:%S.%f')\n",
    "\n",
    "merged_df = pd.concat([df1, df2, df3])\n",
    "# Sort merged data frame by time\n",
    "AL30D_COMPLETE = merged_df.sort_values('time').reset_index(drop=True)\n",
    "AL30D_COMPLETE.to_csv('AL30D_COMPLETE_TASAS.csv', index=False)"
   ]
  },
  {
   "cell_type": "code",
   "execution_count": 68,
   "id": "8dff47dd",
   "metadata": {},
   "outputs": [],
   "source": [
    "df1 = pd.DataFrame(GD30D_N_1)\n",
    "df2 = pd.DataFrame(GD30D_N_2)\n",
    "df3 = pd.DataFrame(GD30D_N_3)\n",
    "\n",
    "df1['time'] = pd.to_datetime(df1.index, format='%Y-%m-%d|%H:%M:%S.%f')\n",
    "df2['time'] = pd.to_datetime(df2.index, format='%Y-%m-%d|%H:%M:%S.%f')\n",
    "df3['time'] = pd.to_datetime(df3.index, format='%Y-%m-%d|%H:%M:%S.%f')\n",
    "\n",
    "merged_df = pd.concat([df1, df2, df3])\n",
    "# Sort merged data frame by time\n",
    "GD30D_COMPLETE = merged_df.sort_values('time').reset_index(drop=True)\n",
    "GD30D_COMPLETE.to_csv('GD30D_COMPLETE_TASAS.csv', index=False)"
   ]
  },
  {
   "cell_type": "code",
   "execution_count": 69,
   "id": "30eaac50",
   "metadata": {},
   "outputs": [],
   "source": [
    "df1 = pd.DataFrame(AL30_N_1)\n",
    "df2 = pd.DataFrame(AL30_N_2)\n",
    "df3 = pd.DataFrame(AL30_N_3)\n",
    "\n",
    "df1['time'] = pd.to_datetime(df1.index, format='%Y-%m-%d|%H:%M:%S.%f')\n",
    "df2['time'] = pd.to_datetime(df2.index, format='%Y-%m-%d|%H:%M:%S.%f')\n",
    "df3['time'] = pd.to_datetime(df3.index, format='%Y-%m-%d|%H:%M:%S.%f')\n",
    "\n",
    "merged_df = pd.concat([df1, df2, df3])\n",
    "# Sort merged data frame by time\n",
    "AL30_COMPLETE = merged_df.sort_values('time').reset_index(drop=True)\n",
    "AL30_COMPLETE.to_csv('AL30_COMPLETE_TASAS.csv', index=False)"
   ]
  },
  {
   "cell_type": "code",
   "execution_count": 70,
   "id": "35e42b06",
   "metadata": {},
   "outputs": [],
   "source": [
    "df1 = pd.DataFrame(GD30_N_1)\n",
    "df2 = pd.DataFrame(GD30_N_2)\n",
    "df3 = pd.DataFrame(GD30_N_3)\n",
    "\n",
    "df1['time'] = pd.to_datetime(df1.index, format='%Y-%m-%d|%H:%M:%S.%f')\n",
    "df2['time'] = pd.to_datetime(df2.index, format='%Y-%m-%d|%H:%M:%S.%f')\n",
    "df3['time'] = pd.to_datetime(df3.index, format='%Y-%m-%d|%H:%M:%S.%f')\n",
    "\n",
    "merged_df = pd.concat([df1, df2, df3])\n",
    "# Sort merged data frame by time\n",
    "GD30_COMPLETE = merged_df.sort_values('time').reset_index(drop=True)\n",
    "GD30_COMPLETE\n",
    "GD30_COMPLETE.to_csv('GD30_COMPLETE_TASAS.csv', index=False)"
   ]
  },
  {
   "cell_type": "markdown",
   "id": "b0477dfc",
   "metadata": {},
   "source": [
    "# APPEND VOLUMEN"
   ]
  },
  {
   "cell_type": "code",
   "execution_count": 71,
   "id": "42ee3e31",
   "metadata": {},
   "outputs": [],
   "source": [
    "import json\n",
    "import pandas as pd\n",
    "import matplotlib.pyplot as plt\n",
    "import seaborn as sns\n",
    "from scipy import stats\n",
    "from scipy.stats import kurtosis, skew,norm\n",
    "from pandas.io.json import json_normalize\n",
    "import numpy as np\n",
    "from FUNCIONES_TASAS import *"
   ]
  },
  {
   "cell_type": "code",
   "execution_count": 72,
   "id": "5f5b6879",
   "metadata": {},
   "outputs": [],
   "source": [
    "df_1=abrir_datos(url=\"/Users/rogarciag/Desktop/AI_&_TRADING/ALGORITHMIC_TRADING/PRINCIPAL/NASINI/TRABAJOS_GENERAL/ANALISIS_DATOS/BASES_DE_DATOS/DATOS_SEPARADOS/datos_20230419.json\")\n",
    "df_2=abrir_datos(url=\"/Users/rogarciag/Desktop/AI_&_TRADING/ALGORITHMIC_TRADING/PRINCIPAL/NASINI/TRABAJOS_GENERAL/ANALISIS_DATOS/BASES_DE_DATOS/DATOS_SEPARADOS/datos_20230420.json\")\n",
    "df_3=abrir_datos(url=\"/Users/rogarciag/Desktop/AI_&_TRADING/ALGORITHMIC_TRADING/PRINCIPAL/NASINI/TRABAJOS_GENERAL/ANALISIS_DATOS/BASES_DE_DATOS/DATOS_SEPARADOS/datos_20230421.json\")"
   ]
  },
  {
   "cell_type": "code",
   "execution_count": 73,
   "id": "8c02a740",
   "metadata": {},
   "outputs": [],
   "source": [
    "AL30D_N_1 = df_1[df_1['ticker'] == 'AL30D'].reset_index(drop=True)\n",
    "GD30D_N_1 = df_1[df_1['ticker'] == 'GD30D'].reset_index(drop=True)\n",
    "AL30_N_1 = df_1[df_1['ticker'] == 'AL30'].reset_index(drop=True)\n",
    "GD30_N_1 = df_1[df_1['ticker'] == 'GD30'].reset_index(drop=True)\n",
    "\n",
    "AL30D_N_2 = df_2[df_2['ticker'] == 'AL30D'].reset_index(drop=True)\n",
    "GD30D_N_2 = df_2[df_2['ticker'] == 'GD30D'].reset_index(drop=True)\n",
    "AL30_N_2 = df_2[df_2['ticker'] == 'AL30'].reset_index(drop=True)\n",
    "GD30_N_2 = df_2[df_2['ticker'] == 'GD30'].reset_index(drop=True)\n",
    "\n",
    "AL30D_N_3 = df_3[df_3['ticker'] == 'AL30D'].reset_index(drop=True)\n",
    "GD30D_N_3 = df_3[df_3['ticker'] == 'GD30D'].reset_index(drop=True)\n",
    "AL30_N_3 = df_3[df_3['ticker'] == 'AL30'].reset_index(drop=True)\n",
    "GD30_N_3 = df_3[df_3['ticker'] == 'GD30'].reset_index(drop=True)\n",
    "\n",
    "AL30D_N_1=limpiar_datos_volumen(AL30D_N_1)\n",
    "AL30_N_1=limpiar_datos_volumen(AL30_N_1)\n",
    "GD30D_N_1=limpiar_datos_volumen(GD30D_N_1)\n",
    "GD30_N_1=limpiar_datos_volumen(GD30_N_1)\n",
    "\n",
    "AL30D_N_2=limpiar_datos_volumen(AL30D_N_2)\n",
    "AL30_N_2=limpiar_datos_volumen(AL30_N_2)\n",
    "GD30D_N_2=limpiar_datos_volumen(GD30D_N_2)\n",
    "GD30_N_2=limpiar_datos_volumen(GD30_N_2)\n",
    "\n",
    "AL30D_N_3=limpiar_datos_volumen(AL30D_N_3)\n",
    "AL30_N_3=limpiar_datos_volumen(AL30_N_3)\n",
    "GD30D_N_3=limpiar_datos_volumen(GD30D_N_3)\n",
    "GD30_N_3=limpiar_datos_volumen(GD30_N_3)"
   ]
  },
  {
   "cell_type": "code",
   "execution_count": 74,
   "id": "b2e89916",
   "metadata": {},
   "outputs": [],
   "source": [
    "df1 = pd.DataFrame(AL30D_N_1)\n",
    "df2 = pd.DataFrame(AL30D_N_2)\n",
    "df3 = pd.DataFrame(AL30D_N_3)\n",
    "\n",
    "\n",
    "df1['time'] = pd.to_datetime(df1.index, format='%Y-%m-%d|%H:%M:%S.%f')\n",
    "df2['time'] = pd.to_datetime(df2.index, format='%Y-%m-%d|%H:%M:%S.%f')\n",
    "df3['time'] = pd.to_datetime(df3.index, format='%Y-%m-%d|%H:%M:%S.%f')\n",
    "\n",
    "merged_df = pd.concat([df1, df2, df3])\n",
    "# Sort merged data frame by time\n",
    "AL30D_COMPLETE = merged_df.sort_values('time').reset_index(drop=True)\n",
    "AL30D_COMPLETE.to_csv('AL30D_COMPLETE_VOLUMEN.csv', index=False)"
   ]
  },
  {
   "cell_type": "code",
   "execution_count": 75,
   "id": "e3c50c43",
   "metadata": {},
   "outputs": [],
   "source": [
    "df1 = pd.DataFrame(GD30D_N_1)\n",
    "df2 = pd.DataFrame(GD30D_N_2)\n",
    "df3 = pd.DataFrame(GD30D_N_3)\n",
    "\n",
    "df1['time'] = pd.to_datetime(df1.index, format='%Y-%m-%d|%H:%M:%S.%f')\n",
    "df2['time'] = pd.to_datetime(df2.index, format='%Y-%m-%d|%H:%M:%S.%f')\n",
    "df3['time'] = pd.to_datetime(df3.index, format='%Y-%m-%d|%H:%M:%S.%f')\n",
    "\n",
    "merged_df = pd.concat([df1, df2, df3])\n",
    "# Sort merged data frame by time\n",
    "GD30D_COMPLETE = merged_df.sort_values('time').reset_index(drop=True)\n",
    "GD30D_COMPLETE.to_csv('GD30D_COMPLETE_VOLUMEN.csv', index=False)"
   ]
  },
  {
   "cell_type": "code",
   "execution_count": 76,
   "id": "aba99baf",
   "metadata": {},
   "outputs": [],
   "source": [
    "df1 = pd.DataFrame(AL30_N_1)\n",
    "df2 = pd.DataFrame(AL30_N_2)\n",
    "df3 = pd.DataFrame(AL30_N_3)\n",
    "\n",
    "df1['time'] = pd.to_datetime(df1.index, format='%Y-%m-%d|%H:%M:%S.%f')\n",
    "df2['time'] = pd.to_datetime(df2.index, format='%Y-%m-%d|%H:%M:%S.%f')\n",
    "df3['time'] = pd.to_datetime(df3.index, format='%Y-%m-%d|%H:%M:%S.%f')\n",
    "\n",
    "merged_df = pd.concat([df1, df2, df3])\n",
    "# Sort merged data frame by time\n",
    "AL30_COMPLETE = merged_df.sort_values('time').reset_index(drop=True)\n",
    "AL30_COMPLETE.to_csv('AL30_COMPLETE_VOLUMEN.csv', index=False)"
   ]
  },
  {
   "cell_type": "code",
   "execution_count": 77,
   "id": "7ef0579c",
   "metadata": {},
   "outputs": [],
   "source": [
    "df1 = pd.DataFrame(GD30_N_1)\n",
    "df2 = pd.DataFrame(GD30_N_2)\n",
    "df3 = pd.DataFrame(GD30_N_3)\n",
    "\n",
    "df1['time'] = pd.to_datetime(df1.index, format='%Y-%m-%d|%H:%M:%S.%f')\n",
    "df2['time'] = pd.to_datetime(df2.index, format='%Y-%m-%d|%H:%M:%S.%f')\n",
    "df3['time'] = pd.to_datetime(df3.index, format='%Y-%m-%d|%H:%M:%S.%f')\n",
    "\n",
    "merged_df = pd.concat([df1, df2, df3])\n",
    "# Sort merged data frame by time\n",
    "GD30_COMPLETE = merged_df.sort_values('time').reset_index(drop=True)\n",
    "GD30_COMPLETE\n",
    "GD30_COMPLETE.to_csv('GD30_COMPLETE_VOLUMEN.csv', index=False)"
   ]
  },
  {
   "cell_type": "code",
   "execution_count": null,
   "id": "950c0e41",
   "metadata": {},
   "outputs": [],
   "source": []
  },
  {
   "cell_type": "code",
   "execution_count": null,
   "id": "ec69803d",
   "metadata": {},
   "outputs": [],
   "source": []
  }
 ],
 "metadata": {
  "kernelspec": {
   "display_name": "Python 3 (ipykernel)",
   "language": "python",
   "name": "python3"
  },
  "language_info": {
   "codemirror_mode": {
    "name": "ipython",
    "version": 3
   },
   "file_extension": ".py",
   "mimetype": "text/x-python",
   "name": "python",
   "nbconvert_exporter": "python",
   "pygments_lexer": "ipython3",
   "version": "3.8.12"
  }
 },
 "nbformat": 4,
 "nbformat_minor": 5
}
