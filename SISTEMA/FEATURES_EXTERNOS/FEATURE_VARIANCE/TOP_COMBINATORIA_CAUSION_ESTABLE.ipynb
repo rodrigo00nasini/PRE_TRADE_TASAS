{
 "cells": [
  {
   "cell_type": "code",
   "execution_count": 15,
   "id": "7ed3ebd3",
   "metadata": {},
   "outputs": [],
   "source": [
    "from FUNCIONES_FEATURES import *\n",
    "import numpy as np\n",
    "import pandas as pd\n",
    "from sklearn.preprocessing import StandardScaler\n",
    "from sklearn.linear_model import LinearRegression\n",
    "from sklearn import metrics as sm\n",
    "from scipy.stats import pearsonr\n",
    "from itertools import chain, combinations\n",
    "import itertools"
   ]
  },
  {
   "cell_type": "markdown",
   "id": "73cc0212",
   "metadata": {},
   "source": [
    "# DEFINICION"
   ]
  },
  {
   "cell_type": "markdown",
   "id": "6ed1fd7d",
   "metadata": {},
   "source": [
    "- varianza - 1\n",
    "\n",
    "\n",
    "- mean_absolute - 2\n",
    "\n",
    "\n",
    "- median_absolute - 3\n",
    "\n",
    "\n",
    "- average_range - 4\n",
    "\n",
    "\n",
    "- coefficient_variation - 5\n",
    "\n",
    "\n",
    "- quartile_deviation - 6\n",
    "\n",
    "\n",
    "- mean_deviation - 7\n",
    "\n",
    "\n",
    "- root_square_deviation - 8\n",
    "\n",
    "\n",
    "- median_deviation_from_the_mean - 9\n",
    "\n",
    "\n",
    "- geometric_std - 10\n",
    "\n",
    "\n",
    "- winsorized_variance - 11\n",
    "\n",
    "\n",
    "- robust_coefficient_variation - 12"
   ]
  },
  {
   "cell_type": "code",
   "execution_count": 16,
   "id": "e2abe75c",
   "metadata": {},
   "outputs": [],
   "source": [
    "short_window=100\n",
    "long_window=300"
   ]
  },
  {
   "cell_type": "code",
   "execution_count": 17,
   "id": "bf63d720",
   "metadata": {},
   "outputs": [],
   "source": [
    "dispersiones = [\n",
    "    varianza,\n",
    "    mean_absolute,\n",
    "    median_absolute,\n",
    "    average_range,\n",
    "    coefficient_variation,\n",
    "    quartile_deviation,\n",
    "    mean_deviation,\n",
    "    root_square_deviation,\n",
    "    median_deviation_from_the_mean,\n",
    "    geometric_std,\n",
    "    winsorized_variance,\n",
    "    robust_coefficient_variation,\n",
    "]"
   ]
  },
  {
   "cell_type": "code",
   "execution_count": 18,
   "id": "224e888c",
   "metadata": {},
   "outputs": [],
   "source": [
    "def power_set(iterable):\n",
    "    s = list(iterable)\n",
    "    return list(\n",
    "        itertools.chain.from_iterable(\n",
    "            itertools.combinations(s, r) for r in range(len(s) + 1)\n",
    "        )\n",
    "    )\n",
    "\n",
    "def generacion_score_spread_general(data_trading,data_spread_rate,lista_metricas):\n",
    "    dataframes = {}\n",
    "    for i in lista_metricas:\n",
    "        score_ts = scoring(rates_spread_ts=data_spread_rate, short_w=short_window, long_w=long_window, dispersion_function=i)\n",
    "        spreads_score_df = scoring_vs_max_spread(ts_trading=data_trading, scoring_ts=score_ts, filtracion_n_trades=1000)\n",
    "\n",
    "        dataframes[i] = spreads_score_df\n",
    "    return dataframes"
   ]
  },
  {
   "cell_type": "code",
   "execution_count": 19,
   "id": "88dee8bc",
   "metadata": {},
   "outputs": [],
   "source": [
    "AL30_TRADING=pd.read_csv(\"/Users/rogarciag/Desktop/AI_&_TRADING/ALGORITHMIC_TRADING/PRINCIPAL/NASINI/TRABAJOS_GENERAL/PROYECTO_TRADING/BASES_DE_DATOS/DATOS_TRADING_SPREADS/DATOS_SIN_CAUSION/spread_trading_AL30_CAUSION_ESTABLE.csv\")\n",
    "AL30_SPREADS=pd.read_csv('/Users/rogarciag/Desktop/AI_&_TRADING/ALGORITHMIC_TRADING/PRINCIPAL/NASINI/TRABAJOS_GENERAL/PROYECTO_TRADING/BASES_DE_DATOS/DATOS_TRADING_SPREADS/DATOS_SIN_CAUSION/ts_rates_spreads_AL30_CAUSION_ESTABLE.csv')"
   ]
  },
  {
   "cell_type": "code",
   "execution_count": 20,
   "id": "9606adec",
   "metadata": {},
   "outputs": [],
   "source": [
    "AL30_TRADING=AL30_TRADING[0:5000]\n",
    "AL30_SPREADS=AL30_SPREADS[0:5000]"
   ]
  },
  {
   "cell_type": "code",
   "execution_count": 21,
   "id": "35cd3d50",
   "metadata": {},
   "outputs": [],
   "source": [
    "dataframes=generacion_score_spread_general(data_trading=AL30_TRADING,data_spread_rate=AL30_SPREADS,lista_metricas=dispersiones)"
   ]
  },
  {
   "cell_type": "code",
   "execution_count": 22,
   "id": "9ed9a553",
   "metadata": {},
   "outputs": [],
   "source": [
    "varianza_df=dataframes[varianza][\"Score_Inicio_Trade\"]\n",
    "mean_absolute_df=dataframes[mean_absolute][\"Score_Inicio_Trade\"]\n",
    "median_absolute_df=dataframes[median_absolute][\"Score_Inicio_Trade\"]\n",
    "average_range_df=dataframes[average_range][\"Score_Inicio_Trade\"]\n",
    "coefficient_variation_df=dataframes[coefficient_variation][\"Score_Inicio_Trade\"]\n",
    "mean_deviation_df=dataframes[mean_deviation][\"Score_Inicio_Trade\"]\n",
    "root_square_deviation_df=dataframes[root_square_deviation][\"Score_Inicio_Trade\"]\n",
    "median_deviation_from_the_mean_df=dataframes[median_deviation_from_the_mean][\"Score_Inicio_Trade\"]\n",
    "geometric_std_df=dataframes[geometric_std][\"Score_Inicio_Trade\"]\n",
    "winsorized_variance_df=dataframes[winsorized_variance][\"Score_Inicio_Trade\"]\n",
    "robust_coefficient_variation_df=dataframes[robust_coefficient_variation][\"Score_Inicio_Trade\"]"
   ]
  },
  {
   "cell_type": "code",
   "execution_count": 23,
   "id": "972e62a3",
   "metadata": {},
   "outputs": [],
   "source": [
    "input_series = [\n",
    "    varianza_df,\n",
    "    mean_absolute_df,\n",
    "    median_absolute_df,\n",
    "    average_range_df,\n",
    "    coefficient_variation_df,\n",
    "    mean_deviation_df,\n",
    "    root_square_deviation_df,\n",
    "    median_deviation_from_the_mean_df,\n",
    "    geometric_std_df,\n",
    "    winsorized_variance_df,\n",
    "    robust_coefficient_variation_df,\n",
    "]\n",
    "\n",
    "\n",
    "\n",
    "indexed_input_series = list(enumerate(input_series, 1))\n",
    "power_set_series = power_set(indexed_input_series)\n",
    "\n",
    "sums_df = pd.DataFrame()\n",
    "for i, combination in enumerate(power_set_series, 1):\n",
    "    indices = [str(index) for index, _ in combination]\n",
    "    column_name = \"_\".join(indices)\n",
    "    if not column_name:\n",
    "        column_name = \"empty\"\n",
    "    sums_df[f'combination_{column_name}'] = sum(series for _, series in combination)\n",
    "sums_df[\"Target\"]=dataframes[varianza][\"Maximum Abs Value\"]"
   ]
  },
  {
   "cell_type": "code",
   "execution_count": 24,
   "id": "fbdc9eec",
   "metadata": {},
   "outputs": [],
   "source": [
    "df=sums_df\n",
    "df.drop(columns=\"combination_empty\",inplace=True)"
   ]
  },
  {
   "cell_type": "markdown",
   "id": "5fc24919",
   "metadata": {},
   "source": [
    "# PARAMETRO TRADING -0.06=<   <0.03 "
   ]
  },
  {
   "cell_type": "code",
   "execution_count": 25,
   "id": "04fb0ace",
   "metadata": {},
   "outputs": [
    {
     "name": "stdout",
     "output_type": "stream",
     "text": [
      "Top 5 features con mayor r2 positivo:\n",
      "combination_4_5: 0.18\n",
      "combination_4_5_11: 0.18\n",
      "combination_4_11: 0.15\n",
      "combination_4_5_9_11: 0.13\n",
      "combination_4: 0.13\n",
      "combination_4_5_9: 0.12\n",
      "combination_3_4_5_11: 0.11\n",
      "combination_4_5_8_11: 0.11\n",
      "combination_5_11: 0.09\n",
      "combination_3_4_5_9_11: 0.07\n",
      "\n",
      "Top 5 features con mayor correlación absoluta:\n",
      "combination_4_5: 0.43\n",
      "combination_4_5_11: 0.42\n",
      "combination_4_11: 0.39\n",
      "combination_4_5_9_11: 0.36\n",
      "combination_4: 0.36\n",
      "combination_4_5_9: 0.34\n",
      "combination_3_4_5_11: 0.33\n",
      "combination_4_5_8_11: 0.33\n",
      "combination_5_11: 0.30\n",
      "combination_3_4_5_9_11: 0.27\n"
     ]
    }
   ],
   "source": [
    "# Assuming your data frame is named df\n",
    "combination_columns = [col for col in df.columns if 'combination' in col]\n",
    "\n",
    "r2_scores = {}\n",
    "correlation_coefficients = {}\n",
    "\n",
    "for combination_col in combination_columns:\n",
    "    x = df[combination_col]\n",
    "    x = np.array(x).reshape(-1, 1)\n",
    "    y = df['Target']\n",
    "\n",
    "    sc = StandardScaler().fit(x)\n",
    "    x_sc = sc.transform(x)\n",
    "\n",
    "    lm = LinearRegression()\n",
    "    lm.fit(x_sc, y)\n",
    "    predictions = lm.predict(x_sc)\n",
    "    correlation, _ = pearsonr(df[combination_col], df['Target'])\n",
    "\n",
    "    r2_scores[combination_col] = sm.r2_score(y, predictions)\n",
    "    correlation_coefficients[combination_col] = correlation\n",
    "\n",
    "show_top_score=10\n",
    "sorted_r2_scores = sorted(r2_scores.items(), key=lambda x: x[1], reverse=True)[:show_top_score]\n",
    "sorted_correlation_coefficients = sorted(correlation_coefficients.items(), key=lambda x: abs(x[1]), reverse=True)[:show_top_score]\n",
    "\n",
    "print(\"Top 5 features con mayor r2 positivo:\")\n",
    "for col, r2 in sorted_r2_scores:\n",
    "    print(f\"{col}: {r2:.2f}\")\n",
    "\n",
    "print(\"\\nTop 5 features con mayor correlación absoluta:\")\n",
    "for col, corr in sorted_correlation_coefficients:\n",
    "    print(f\"{col}: {corr:.2f}\")\n"
   ]
  },
  {
   "cell_type": "markdown",
   "id": "3604623d",
   "metadata": {},
   "source": [
    "# CONCLUSION"
   ]
  },
  {
   "cell_type": "markdown",
   "id": "7b8bca8f",
   "metadata": {},
   "source": [
    "Con los datos hasta ahora la mejor combinacion en correlacion y r2 es la misma con las caracteristicas que maximizan esta metrica:\n",
    "\n",
    "- varianza - 1\n",
    "\n",
    "\n",
    "- mean_absolute - 2\n",
    "\n",
    "\n",
    "- average range - 4\n",
    "\n",
    "\n",
    "- quartile deviation - 6\n",
    "\n",
    "\n",
    "- winsorized_variance - 11"
   ]
  },
  {
   "cell_type": "code",
   "execution_count": null,
   "id": "c20f60d1",
   "metadata": {},
   "outputs": [],
   "source": []
  }
 ],
 "metadata": {
  "kernelspec": {
   "display_name": "Python 3 (ipykernel)",
   "language": "python",
   "name": "python3"
  },
  "language_info": {
   "codemirror_mode": {
    "name": "ipython",
    "version": 3
   },
   "file_extension": ".py",
   "mimetype": "text/x-python",
   "name": "python",
   "nbconvert_exporter": "python",
   "pygments_lexer": "ipython3",
   "version": "3.8.12"
  }
 },
 "nbformat": 4,
 "nbformat_minor": 5
}
