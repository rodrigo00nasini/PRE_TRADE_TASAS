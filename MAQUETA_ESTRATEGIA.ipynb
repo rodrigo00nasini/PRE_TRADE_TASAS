{
 "cells": [
  {
   "cell_type": "code",
   "execution_count": 56,
   "id": "2a42e89c",
   "metadata": {},
   "outputs": [],
   "source": [
    "import json\n",
    "import pandas as pd\n",
    "import matplotlib.pyplot as plt\n",
    "import seaborn as sns\n",
    "from scipy import stats\n",
    "from scipy.stats import kurtosis, skew,norm\n",
    "from pandas.io.json import json_normalize\n",
    "import numpy as np\n",
    "from FUNCIONES_TASAS import *"
   ]
  },
  {
   "cell_type": "code",
   "execution_count": 60,
   "id": "cf9854af",
   "metadata": {},
   "outputs": [],
   "source": [
    "df=abrir_datos(url=\"/Users/rogarciag/Desktop/AI_&_TRADING/ALGORITHMIC_TRADING/PRINCIPAL/NASINI/TRABAJOS_GENERAL/ANALISIS_DATOS/BASES_DE_DATOS/datos_20230420.json\")"
   ]
  },
  {
   "cell_type": "code",
   "execution_count": 61,
   "id": "1f2b011a",
   "metadata": {},
   "outputs": [],
   "source": [
    "AL30D_N = df[df['ticker'] == 'AL30D'].reset_index(drop=True)\n",
    "GD30D_N = df[df['ticker'] == 'GD30D'].reset_index(drop=True)\n",
    "AL30_N = df[df['ticker'] == 'AL30'].reset_index(drop=True)\n",
    "GD30_N = df[df['ticker'] == 'GD30'].reset_index(drop=True)"
   ]
  },
  {
   "cell_type": "code",
   "execution_count": 62,
   "id": "b51b5e21",
   "metadata": {},
   "outputs": [],
   "source": [
    "AL30D=limpiar_datos_tasas(AL30D_N)\n",
    "AL30=limpiar_datos_tasas(AL30_N)\n",
    "GD30D=limpiar_datos_tasas(GD30D_N)\n",
    "GD30=limpiar_datos_tasas(GD30_N)"
   ]
  },
  {
   "cell_type": "code",
   "execution_count": 66,
   "id": "7562b2bf",
   "metadata": {},
   "outputs": [
    {
     "data": {
      "text/plain": [
       "<Axes: xlabel='fecha'>"
      ]
     },
     "execution_count": 66,
     "metadata": {},
     "output_type": "execute_result"
    },
    {
     "data": {
      "image/png": "[encoded data removed]",
      "text/plain": [
       "<Figure size 432x288 with 1 Axes>"
      ]
     },
     "metadata": {
      "needs_background": "light"
     },
     "output_type": "display_data"
    }
   ],
   "source": [
    "GD30D[\"COLOCAR_TASA_ABRIENDO_PLAZO_CERCANO_TASA\"].plot()"
   ]
  },
  {
   "cell_type": "markdown",
   "id": "dc18ff50",
   "metadata": {},
   "source": [
    "**FALTA GENERAR DIFERENCIA ENTRE COLOCAR TO, COLOCAR T+2, TOMAR T0, TOMART+2  Y TASA**"
   ]
  },
  {
   "cell_type": "code",
   "execution_count": 87,
   "id": "e9f7181f",
   "metadata": {
    "scrolled": true
   },
   "outputs": [
    {
     "name": "stderr",
     "output_type": "stream",
     "text": [
      "/var/folders/nj/vt_f4yq17yx2llk4g9ysrl280000gn/T/ipykernel_63260/1131594653.py:10: SettingWithCopyWarning: \n",
      "A value is trying to be set on a copy of a slice from a DataFrame.\n",
      "Try using .loc[row_indexer,col_indexer] = value instead\n",
      "\n",
      "See the caveats in the documentation: https://pandas.pydata.org/pandas-docs/stable/user_guide/indexing.html#returning-a-view-versus-a-copy\n",
      "  data_general[\"POSITION\"] = 0\n"
     ]
    }
   ],
   "source": [
    "data=GD30\n",
    "data[\"SPREAD_COLOCAR\"] = data[\"COLOCAR_TASA_ABRIENDO_PLAZO_CERCANO_TASA\"] - (data[\"caucion_a_un_dia_ultimo_trade_tasa\"] / 100)\n",
    "data[\"SPREAD_TOMAR\"] = data[\"TOMAR_TASA_ABRIENDO_PLAZO_CERCANO_TASA\"] - (data[\"caucion_a_un_dia_ultimo_trade_tasa\"] / 100) \n",
    "\n",
    "data[\"SPREAD_CENTRADO_TOMAR\"] = data[\"SPREAD_TOMAR\"] - data[\"SPREAD_TOMAR\"].mean()\n",
    "data[\"SPREAD_CENTRADO_COLOCAR\"] = data[\"SPREAD_COLOCAR\"] - data[\"SPREAD_COLOCAR\"].mean()\n",
    "\n",
    "\n",
    "data_general=data[[\"caucion_a_un_dia_ultimo_trade_tasa\",\"SPREAD_CENTRADO_COLOCAR\",\"SPREAD_CENTRADO_TOMAR\"]]\n",
    "data_general[\"POSITION\"] = 0\n",
    "\n",
    "current_state = 0\n",
    "\n",
    "threshold_closing = 0.001\n",
    "threshold_arbitrage=0\n",
    "lista=[]\n",
    "\n",
    "\n",
    "# 1 colocar t0 y tomar t+2\n",
    "# -1 tomar t0 y colocar t+2\n",
    "\n",
    "for index, row in data_general.iterrows():\n",
    "    if row[\"SPREAD_CENTRADO_COLOCAR\"] < threshold_arbitrage and row[\"SPREAD_CENTRADO_TOMAR\"] > threshold_arbitrage and current_state != 0:\n",
    "        current_state = 0\n",
    "        data_general.at[index, \"POSITION\"] = 0\n",
    "    \n",
    "    elif row[\"SPREAD_CENTRADO_COLOCAR\"] > threshold_arbitrage and row[\"SPREAD_CENTRADO_TOMAR\"] > threshold_arbitrage and current_state != 1:\n",
    "        lista.append(row[\"SPREAD_CENTRADO_COLOCAR\"])\n",
    "        current_state = 1\n",
    "        data_general.at[index, \"POSITION\"] = 1\n",
    "        \n",
    "    elif row[\"SPREAD_CENTRADO_COLOCAR\"] < threshold_arbitrage and row[\"SPREAD_CENTRADO_TOMAR\"] < threshold_arbitrage and current_state != -1:\n",
    "        current_state = -1\n",
    "        data_general.at[index, \"POSITION\"] = -1\n",
    "        \n",
    "    elif row[\"SPREAD_CENTRADO_COLOCAR\"] > threshold_arbitrage and row[\"SPREAD_CENTRADO_TOMAR\"] < threshold_arbitrage:\n",
    "        \n",
    "        if abs(row[\"SPREAD_CENTRADO_COLOCAR\"]) > abs(row[\"SPREAD_CENTRADO_TOMAR\"]) and current_state != 1:\n",
    "            current_state = 1\n",
    "            data_general.at[index, \"POSITION\"] = 1\n",
    "            \n",
    "        elif abs(row[\"SPREAD_CENTRADO_COLOCAR\"]) < abs(row[\"SPREAD_CENTRADO_TOMAR\"]) and current_state != -1:\n",
    "            current_state = -1\n",
    "            data_general.at[index, \"POSITION\"] = -1\n",
    "            \n",
    "        else:\n",
    "            current_state = 0\n",
    "            data_general.at[index, \"POSITION\"] = 0\n",
    "     \n",
    "    elif abs(row[\"SPREAD_CENTRADO_COLOCAR\"]) <= threshold_closing and abs(row[\"SPREAD_CENTRADO_TOMAR\"]) <= threshold_closing:\n",
    "        current_state = 0\n",
    "        data_general.at[index, \"POSITION\"] = 0\n",
    "    else:\n",
    "        current_state=0\n",
    "        data_general.at[index, \"POSITION\"] = 0"
   ]
  },
  {
   "cell_type": "code",
   "execution_count": 88,
   "id": "ae077eaf",
   "metadata": {},
   "outputs": [
    {
     "name": "stdout",
     "output_type": "stream",
     "text": [
      "Count of -1: 437\n",
      "Count of 0: 975\n",
      "Count of 1: 531\n"
     ]
    }
   ],
   "source": [
    "position_counts = data_general[\"POSITION\"].value_counts()\n",
    "count_minus1 = position_counts.get(-1, 0)\n",
    "count_0 = position_counts.get(0, 0)\n",
    "count_1 = position_counts.get(1, 0)\n",
    "print(f\"Count of -1: {count_minus1}\")\n",
    "print(f\"Count of 0: {count_0}\")\n",
    "print(f\"Count of 1: {count_1}\")\n"
   ]
  },
  {
   "cell_type": "code",
   "execution_count": null,
   "id": "5db8d427",
   "metadata": {},
   "outputs": [],
   "source": []
  },
  {
   "cell_type": "code",
   "execution_count": 76,
   "id": "b9e3ae4e",
   "metadata": {},
   "outputs": [],
   "source": [
    "import json\n",
    "import pandas as pd\n",
    "import matplotlib.pyplot as plt\n",
    "import seaborn as sns\n",
    "from scipy import stats\n",
    "from scipy.stats import kurtosis, skew,norm\n",
    "from pandas.io.json import json_normalize\n",
    "import numpy as np\n",
    "from FUNCIONES_TASAS import *"
   ]
  },
  {
   "cell_type": "code",
   "execution_count": 77,
   "id": "eed11ed9",
   "metadata": {},
   "outputs": [
    {
     "name": "stderr",
     "output_type": "stream",
     "text": [
      "/Users/rogarciag/Desktop/AI_&_TRADING/ALGORITHMIC_TRADING/PRINCIPAL/NASINI/TRABAJOS_GENERAL/ANALISIS_DATOS/CODIGOS_ANALISIS/FUNCIONES_TASAS.py:22: FutureWarning: pandas.io.json.json_normalize is deprecated, use pandas.json_normalize instead\n",
      "  df_ticker = json_normalize(ticker_data)\n"
     ]
    }
   ],
   "source": [
    "df=abrir_datos(url=\"/Users/rogarciag/Desktop/AI_&_TRADING/ALGORITHMIC_TRADING/PRINCIPAL/NASINI/TRABAJOS_GENERAL/ANALISIS_DATOS/BASES_DE_DATOS/datos_20230420.json\")"
   ]
  },
  {
   "cell_type": "code",
   "execution_count": 78,
   "id": "baae201c",
   "metadata": {},
   "outputs": [],
   "source": [
    "AL30D_N = df[df['ticker'] == 'AL30D'].reset_index(drop=True)\n",
    "GD30D_N = df[df['ticker'] == 'GD30D'].reset_index(drop=True)\n",
    "AL30_N = df[df['ticker'] == 'AL30'].reset_index(drop=True)\n",
    "GD30_N = df[df['ticker'] == 'GD30'].reset_index(drop=True)"
   ]
  },
  {
   "cell_type": "code",
   "execution_count": 79,
   "id": "c82534e8",
   "metadata": {},
   "outputs": [],
   "source": [
    "AL30D=limpiar_datos_tasas(AL30D_N)\n",
    "AL30=limpiar_datos_tasas(AL30_N)\n",
    "GD30D=limpiar_datos_tasas(GD30D_N)\n",
    "GD30=limpiar_datos_tasas(GD30_N)"
   ]
  },
  {
   "cell_type": "code",
   "execution_count": 84,
   "id": "d840c2a1",
   "metadata": {},
   "outputs": [
    {
     "name": "stderr",
     "output_type": "stream",
     "text": [
      "/var/folders/nj/vt_f4yq17yx2llk4g9ysrl280000gn/T/ipykernel_63260/3241077821.py:14: SettingWithCopyWarning: \n",
      "A value is trying to be set on a copy of a slice from a DataFrame.\n",
      "Try using .loc[row_indexer,col_indexer] = value instead\n",
      "\n",
      "See the caveats in the documentation: https://pandas.pydata.org/pandas-docs/stable/user_guide/indexing.html#returning-a-view-versus-a-copy\n",
      "  data_general[\"POSITION_COMPRAR_T0\"] = 0\n",
      "/var/folders/nj/vt_f4yq17yx2llk4g9ysrl280000gn/T/ipykernel_63260/3241077821.py:15: SettingWithCopyWarning: \n",
      "A value is trying to be set on a copy of a slice from a DataFrame.\n",
      "Try using .loc[row_indexer,col_indexer] = value instead\n",
      "\n",
      "See the caveats in the documentation: https://pandas.pydata.org/pandas-docs/stable/user_guide/indexing.html#returning-a-view-versus-a-copy\n",
      "  data_general[\"POSITION_VENDER_T0\"] = 0\n",
      "/var/folders/nj/vt_f4yq17yx2llk4g9ysrl280000gn/T/ipykernel_63260/3241077821.py:16: SettingWithCopyWarning: \n",
      "A value is trying to be set on a copy of a slice from a DataFrame.\n",
      "Try using .loc[row_indexer,col_indexer] = value instead\n",
      "\n",
      "See the caveats in the documentation: https://pandas.pydata.org/pandas-docs/stable/user_guide/indexing.html#returning-a-view-versus-a-copy\n",
      "  data_general[\"POSITION_COMPRAR_T2\"] = 0\n",
      "/var/folders/nj/vt_f4yq17yx2llk4g9ysrl280000gn/T/ipykernel_63260/3241077821.py:17: SettingWithCopyWarning: \n",
      "A value is trying to be set on a copy of a slice from a DataFrame.\n",
      "Try using .loc[row_indexer,col_indexer] = value instead\n",
      "\n",
      "See the caveats in the documentation: https://pandas.pydata.org/pandas-docs/stable/user_guide/indexing.html#returning-a-view-versus-a-copy\n",
      "  data_general[\"POSITION_VENDER_T2\"] = 0\n"
     ]
    }
   ],
   "source": [
    "contar_comprart0_vendert2=0\n",
    "contar_vender0_comprar_t2=0\n",
    "\n",
    "data=GD30\n",
    "data[\"SPREAD_COMPRAR_T0\"] = data[\"COLOCAR_TASA_ABRIENDO_PLAZO_CERCANO_TASA\"] - (data[\"caucion_a_un_dia_ultimo_trade_tasa\"] / 100)\n",
    "data[\"SPREAD_COMPRAR_T2\"] = data[\"COLOCAR_TASA_ABRIENDO_PLAZO_LEJANO_TASA\"] - (data[\"caucion_a_un_dia_ultimo_trade_tasa\"] / 100)\n",
    "\n",
    "data[\"SPREAD_VENDER_T0\"] = data[\"TOMAR_TASA_ABRIENDO_PLAZO_CERCANO_TASA\"] - (data[\"caucion_a_un_dia_ultimo_trade_tasa\"] / 100) \n",
    "data[\"SPREAD_VENDER_T2\"] = data[\"TOMAR_TASA_ABRIENDO_PLAZO_LEJANO_TASA\"] - (data[\"caucion_a_un_dia_ultimo_trade_tasa\"] / 100) \n",
    "\n",
    "\n",
    "data_general=data[[\"caucion_a_un_dia_ultimo_trade_tasa\",\"SPREAD_COMPRAR_T0\",\"SPREAD_COMPRAR_T2\",\"SPREAD_VENDER_T0\",\"SPREAD_VENDER_T2\"]]\n",
    "\n",
    "data_general[\"POSITION_COMPRAR_T0\"] = 0\n",
    "data_general[\"POSITION_VENDER_T0\"] = 0\n",
    "data_general[\"POSITION_COMPRAR_T2\"] = 0\n",
    "data_general[\"POSITION_VENDER_T2\"] = 0\n",
    "\n",
    "current_state_comprar_t0_vender_t2 = 0\n",
    "current_state_vender_t0_comprar_t0 = 0\n",
    "\n",
    "\n",
    "threshold_closing = 0.001\n",
    "threshold_arbitrage=0\n",
    "lista=[]\n",
    "\n",
    "for index, row in data_general.iterrows():\n",
    "    \n",
    "    # CASO NO PASA NADA\n",
    "    if row[\"SPREAD_COMPRAR_T0\"] < threshold_arbitrage and row[\"SPREAD_COMPRAR_T0\"] < threshold_arbitrage  and row[\"SPREAD_VENDER_T0\"] > threshold_arbitrage and row[\"SPREAD_VENDER_T2\"] > threshold_arbitrage:\n",
    "        continue\n",
    "    # CASOS EN EL QUE SOLO UNO PASA ALGUN THRESHOLD GANADOR \n",
    "    elif row[\"SPREAD_COMPRAR_T0\"] > threshold_arbitrage and row[\"SPREAD_COMPRAR_T2\"] < threshold_arbitrage  and row[\"SPREAD_VENDER_T0\"] > threshold_arbitrage and row[\"SPREAD_VENDER_T2\"] > threshold_arbitrage:\n",
    "        data_general.at[index, \"POSITION_COMPRAR_T0\"] = 1\n",
    "        data_general.at[index, \"POSITION_VENDER_T0\"] = 0\n",
    "        data_general.at[index, \"POSITION_COMPRAR_T2\"] = 0\n",
    "        data_general.at[index, \"POSITION_VENDER_T2\"] = -1\n",
    "        contar_comprart0_vendert2+=1\n",
    "        \n",
    "    elif row[\"SPREAD_COMPRAR_T0\"] < threshold_arbitrage and row[\"SPREAD_COMPRAR_T2\"] > threshold_arbitrage  and row[\"SPREAD_VENDER_T0\"] > threshold_arbitrage and row[\"SPREAD_VENDER_T2\"] > threshold_arbitrage:\n",
    "        data_general.at[index, \"POSITION_COMPRAR_T0\"] = 0\n",
    "        data_general.at[index, \"POSITION_VENDER_T0\"] = -1\n",
    "        data_general.at[index, \"POSITION_COMPRAR_T2\"] = 1\n",
    "        data_general.at[index, \"POSITION_VENDER_T2\"] = 0\n",
    "        contar_vender0_comprar_t2+=1\n",
    "        \n",
    "    elif row[\"SPREAD_COMPRAR_T0\"] < threshold_arbitrage and row[\"SPREAD_COMPRAR_T2\"] < threshold_arbitrage  and row[\"SPREAD_VENDER_T0\"] < threshold_arbitrage and row[\"SPREAD_VENDER_T2\"] > threshold_arbitrage :\n",
    "        data_general.at[index, \"POSITION_COMPRAR_T0\"] = 0\n",
    "        data_general.at[index, \"POSITION_VENDER_T0\"] = -1\n",
    "        data_general.at[index, \"POSITION_COMPRAR_T2\"] = 1\n",
    "        data_general.at[index, \"POSITION_VENDER_T2\"] = 0\n",
    "        contar_vender0_comprar_t2+=1\n",
    "        \n",
    "    elif row[\"SPREAD_COMPRAR_T0\"] < threshold_arbitrage and row[\"SPREAD_COMPRAR_T2\"] < threshold_arbitrage  and row[\"SPREAD_VENDER_T0\"] > threshold_arbitrage and row[\"SPREAD_VENDER_T2\"] < threshold_arbitrage:\n",
    "        data_general.at[index, \"POSITION_COMPRAR_T0\"] = 1\n",
    "        data_general.at[index, \"POSITION_VENDER_T0\"] = 0\n",
    "        data_general.at[index, \"POSITION_COMPRAR_T2\"] =0\n",
    "        data_general.at[index, \"POSITION_VENDER_T2\"] = -1\n",
    "        contar_comprart0_vendert2+=1\n",
    "        \n",
    "    \n",
    "\n",
    "    #CASOS EN EL QUE MAS DE 2 PASA THRESHOLD GANADOR\n",
    "    \n",
    "    elif row[\"SPREAD_COMPRAR_T0\"] > threshold_arbitrage and row[\"SPREAD_COMPRAR_T2\"] > threshold_arbitrage  and row[\"SPREAD_VENDER_T0\"] > threshold_arbitrage and row[\"SPREAD_VENDER_T2\"] > threshold_arbitrage:\n",
    "        \n",
    "        if abs(row[\"SPREAD_COMPRAR_T0\"]) > abs(row[\"SPREAD_COMPRAR_T2\"]) or abs(row[\"SPREAD_COMPRAR_T0\"]) == abs(row[\"SPREAD_COMPRAR_T2\"]):\n",
    "            \n",
    "            data_general.at[index, \"POSITION_COMPRAR_T0\"] = 1\n",
    "            data_general.at[index, \"POSITION_VENDER_T0\"] = 0\n",
    "            data_general.at[index, \"POSITION_COMPRAR_T2\"] = 0\n",
    "            data_general.at[index, \"POSITION_VENDER_T2\"] = -1\n",
    "            contar_comprart0_vendert2+=1\n",
    "            \n",
    "        else:\n",
    "            data_general.at[index, \"POSITION_COMPRAR_T0\"] = 0\n",
    "            data_general.at[index, \"POSITION_VENDER_T0\"] = -1\n",
    "            data_general.at[index, \"POSITION_COMPRAR_T2\"] = 1\n",
    "            data_general.at[index, \"POSITION_VENDER_T2\"] = 0\n",
    "            contar_comprart0_vendert2+=1\n",
    "                 \n",
    "            \n",
    "    elif row[\"SPREAD_COMPRAR_T0\"] < threshold_arbitrage and row[\"SPREAD_COMPRAR_T2\"] < threshold_arbitrage  and row[\"SPREAD_VENDER_T0\"] < threshold_arbitrage and row[\"SPREAD_VENDER_T2\"] < threshold_arbitrage:\n",
    "        \n",
    "        if abs(row[\"SPREAD_VENDER_T0\"]) > abs(row[\"SPREAD_VENDER_T2\"]) or abs(row[\"SPREAD_VENDER_T0\"]) == abs(row[\"SPREAD_VENDER_T2\"]):\n",
    "            data_general.at[index, \"POSITION_COMPRAR_T0\"] = 0\n",
    "            data_general.at[index, \"POSITION_VENDER_T0\"] = -1\n",
    "            data_general.at[index, \"POSITION_COMPRAR_T2\"] = 1\n",
    "            data_general.at[index, \"POSITION_VENDER_T2\"] = 0\n",
    "            contar_comprart0_vendert2+=1\n",
    "            \n",
    "        else:\n",
    "            data_general.at[index, \"POSITION_COMPRAR_T0\"] = 1\n",
    "            data_general.at[index, \"POSITION_VENDER_T0\"] = 0\n",
    "            data_general.at[index, \"POSITION_COMPRAR_T2\"] = 0\n",
    "            data_general.at[index, \"POSITION_VENDER_T2\"] = -1\n",
    "            contar_comprart0_vendert2+=1\n",
    "            \n",
    "            \n",
    "    # CASOS EN EL QUE 3 SE CUMPLEN, CUAL ELEGIMOS\n",
    "    elif row[\"SPREAD_COMPRAR_T0\"] > threshold_arbitrage and row[\"SPREAD_COMPRAR_T2\"] > threshold_arbitrage  and row[\"SPREAD_VENDER_T0\"] < threshold_arbitrage and row[\"SPREAD_VENDER_T2\"] > threshold_arbitrage:\n",
    "        \n",
    "        if abs(row[\"SPREAD_COMPRAR_T0\"]) > abs(row[\"SPREAD_COMPRAR_T2\"]) or abs(row[\"SPREAD_COMPRAR_T0\"]) == abs(row[\"SPREAD_COMPRAR_T2\"]):\n",
    "            \n",
    "            data_general.at[index, \"POSITION_COMPRAR_T0\"] = 1\n",
    "            data_general.at[index, \"POSITION_VENDER_T0\"] = 0\n",
    "            data_general.at[index, \"POSITION_COMPRAR_T2\"] = 0\n",
    "            data_general.at[index, \"POSITION_VENDER_T2\"] = -1\n",
    "            contar_comprart0_vendert2+=1\n",
    "            \n",
    "        else:\n",
    "            data_general.at[index, \"POSITION_COMPRAR_T0\"] = 0\n",
    "            data_general.at[index, \"POSITION_VENDER_T0\"] = -1\n",
    "            data_general.at[index, \"POSITION_COMPRAR_T2\"] = 1\n",
    "            data_general.at[index, \"POSITION_VENDER_T2\"] = 0\n",
    "            contar_comprart0_vendert2+=1\n",
    "            \n",
    "            \n",
    "    elif row[\"SPREAD_COMPRAR_T0\"] > threshold_arbitrage and row[\"SPREAD_COMPRAR_T2\"] > threshold_arbitrage  and row[\"SPREAD_VENDER_T0\"] > threshold_arbitrage and row[\"SPREAD_VENDER_T2\"] < threshold_arbitrage:\n",
    "        \n",
    "        if abs(row[\"SPREAD_COMPRAR_T0\"]) > abs(row[\"SPREAD_COMPRAR_T2\"]) or abs(row[\"SPREAD_COMPRAR_T0\"]) == abs(row[\"SPREAD_COMPRAR_T2\"]):\n",
    "            \n",
    "            data_general.at[index, \"POSITION_COMPRAR_T0\"] = 1\n",
    "            data_general.at[index, \"POSITION_VENDER_T0\"] = 0\n",
    "            data_general.at[index, \"POSITION_COMPRAR_T2\"] = 0\n",
    "            data_general.at[index, \"POSITION_VENDER_T2\"] = -1\n",
    "            contar_comprart0_vendert2+=1\n",
    "            \n",
    "        else:\n",
    "            data_general.at[index, \"POSITION_COMPRAR_T0\"] = 0\n",
    "            data_general.at[index, \"POSITION_VENDER_T0\"] = -1\n",
    "            data_general.at[index, \"POSITION_COMPRAR_T2\"] = 1\n",
    "            data_general.at[index, \"POSITION_VENDER_T2\"] = 0\n",
    "            contar_comprart0_vendert2+=1\n",
    "            \n",
    "            \n",
    "    elif row[\"SPREAD_COMPRAR_T0\"] < threshold_arbitrage and row[\"SPREAD_COMPRAR_T2\"] > threshold_arbitrage  and row[\"SPREAD_VENDER_T0\"] < threshold_arbitrage and row[\"SPREAD_VENDER_T2\"] < threshold_arbitrage:\n",
    "        \n",
    "        if abs(row[\"SPREAD_COMPRAR_T0\"]) > abs(row[\"SPREAD_COMPRAR_T2\"]) or abs(row[\"SPREAD_COMPRAR_T0\"]) == abs(row[\"SPREAD_COMPRAR_T2\"]):\n",
    "            \n",
    "            data_general.at[index, \"POSITION_COMPRAR_T0\"] = 1\n",
    "            data_general.at[index, \"POSITION_VENDER_T0\"] = 0\n",
    "            data_general.at[index, \"POSITION_COMPRAR_T2\"] = 0\n",
    "            data_general.at[index, \"POSITION_VENDER_T2\"] = -1\n",
    "            contar_comprart0_vendert2+=1\n",
    "            \n",
    "        else:\n",
    "            data_general.at[index, \"POSITION_COMPRAR_T0\"] = 0\n",
    "            data_general.at[index, \"POSITION_VENDER_T0\"] = -1\n",
    "            data_general.at[index, \"POSITION_COMPRAR_T2\"] = 1\n",
    "            data_general.at[index, \"POSITION_VENDER_T2\"] = 0\n",
    "            contar_comprart0_vendert2+=1\n",
    "            \n",
    "    \n",
    "    elif row[\"SPREAD_COMPRAR_T0\"] > threshold_arbitrage and row[\"SPREAD_COMPRAR_T2\"] < threshold_arbitrage  and row[\"SPREAD_VENDER_T0\"] < threshold_arbitrage and row[\"SPREAD_VENDER_T2\"] < threshold_arbitrage:\n",
    "        \n",
    "        if abs(row[\"SPREAD_COMPRAR_T0\"]) > abs(row[\"SPREAD_COMPRAR_T2\"]) or abs(row[\"SPREAD_COMPRAR_TO\"]) == abs(row[\"SPREAD_COMPRAR_T2\"]):\n",
    "            \n",
    "            data_general.at[index, \"POSITION_COMPRAR_T0\"] = 1\n",
    "            data_general.at[index, \"POSITION_VENDER_T0\"] = 0\n",
    "            data_general.at[index, \"POSITION_COMPRAR_T2\"] = 0\n",
    "            data_general.at[index, \"POSITION_VENDER_T2\"] = -1\n",
    "            contar_comprart0_vendert2+=1\n",
    "            \n",
    "        else:\n",
    "            data_general.at[index, \"POSITION_COMPRAR_T0\"] = 0\n",
    "            data_general.at[index, \"POSITION_VENDER_T0\"] = -1\n",
    "            data_general.at[index, \"POSITION_COMPRAR_T2\"] = 1\n",
    "            data_general.at[index, \"POSITION_VENDER_T2\"] = 0\n",
    "            contar_comprart0_vendert2+=1\n",
    "            \n",
    "    \n",
    "            \n",
    "    # CASO EN EL QUE TODOS PASAN Y SON BUENA OPCION DE TRADE        \n",
    "    elif row[\"SPREAD_COMPRAR_T0\"] > threshold_arbitrage and row[\"SPREAD_COMPRAR_T2\"] > threshold_arbitrage  and row[\"SPREAD_VENDER_T0\"] < threshold_arbitrage and row[\"SPREAD_VENDER_T2\"] < threshold_arbitrage:\n",
    "        \n",
    "        max_comprar = max(abs(row[\"SPREAD_COMPRAR_T0\"]), abs(row[\"SPREAD_COMPRAR_T2\"]))\n",
    "        max_vender = max(abs(row[\"SPREAD_VENDER_T0\"]), abs(row[\"SPREAD_VENDER_T2\"]))\n",
    "            \n",
    "        if max_comprar>max_vender:\n",
    "            #comprar t0 y vender t2\n",
    "            if max_comprar==abs(row[\"SPREAD_COMPRAR_TO\"]):\n",
    "                data_general.at[index, \"POSITION_COMPRAR_T0\"] = 1\n",
    "                data_general.at[index, \"POSITION_VENDER_T0\"] = 0\n",
    "                data_general.at[index, \"POSITION_COMPRAR_T2\"] = 0\n",
    "                data_general.at[index, \"POSITION_VENDER_T2\"] = -1\n",
    "                contar_comprart0_vendert2+=1\n",
    "                \n",
    "            elif max_comprar==abs(row[\"SPREAD_COMPRAR_T2\"]):\n",
    "                #vender t0 y comprar t2\n",
    "                data_general.at[index, \"POSITION_COMPRAR_T0\"] = 0\n",
    "                data_general.at[index, \"POSITION_VENDER_T0\"] = -1\n",
    "                data_general.at[index, \"POSITION_COMPRAR_T2\"] = 1\n",
    "                data_general.at[index, \"POSITION_VENDER_T2\"] = 0\n",
    "                contar_comprart0_vendert2+=1\n",
    "                \n",
    "        elif max_comprar<max_vender:\n",
    "            if max_vender==abs(row[\"SPREAD_VENDER_T0\"]):\n",
    "                #vender t0 y comprar t2\n",
    "                data_general.at[index, \"POSITION_COMPRAR_T0\"] = 0\n",
    "                data_general.at[index, \"POSITION_VENDER_T0\"] = -1\n",
    "                data_general.at[index, \"POSITION_COMPRAR_T2\"] = 1\n",
    "                data_general.at[index, \"POSITION_VENDER_T2\"] = 0\n",
    "                contar_comprart0_vendert2+=1\n",
    "                \n",
    "            elif max_vender==abs(row[\"SPREAD_VENDER_T2\"]):\n",
    "                 #comprar t0 y vender t2\n",
    "                data_general.at[index, \"POSITION_COMPRAR_T0\"] = 1\n",
    "                data_general.at[index, \"POSITION_VENDER_T0\"] = 0\n",
    "                data_general.at[index, \"POSITION_COMPRAR_T2\"] = 0\n",
    "                data_general.at[index, \"POSITION_VENDER_T2\"] = -1\n",
    "                contar_comprart0_vendert2+=1\n",
    "                \n",
    "        elif max_comprar==max_vender:\n",
    "    \n",
    "            if max_vender==abs(row[\"SPREAD_VENDER_T0\"]) and max_comprar==abs(row[\"SPREAD_COMPRAR_T2\"]):\n",
    "                #vender t0 comprar t2\n",
    "                data_general.at[index, \"POSITION_COMPRAR_T0\"] = 0\n",
    "                data_general.at[index, \"POSITION_VENDER_T0\"] = -1\n",
    "                data_general.at[index, \"POSITION_COMPRAR_T2\"] = 1\n",
    "                data_general.at[index, \"POSITION_VENDER_T2\"] = 0\n",
    "                contar_comprart0_vendert2+=1\n",
    "            elif max_vender==abs(row[\"SPREAD_VENDER_T2\"]) and max_comprar==abs(row[\"SPREAD_COMPRAR_T0\"]):\n",
    "                #comprar t0 y vender t2\n",
    "                data_general.at[index, \"POSITION_COMPRAR_T0\"] = 1\n",
    "                data_general.at[index, \"POSITION_VENDER_T0\"] = 0\n",
    "                data_general.at[index, \"POSITION_COMPRAR_T2\"] = 0\n",
    "                data_general.at[index, \"POSITION_VENDER_T2\"] = -1 \n",
    "                contar_comprart0_vendert2+=1\n",
    "            else:\n",
    "                #comprar t0 y vender t2\n",
    "                data_general.at[index, \"POSITION_COMPRAR_TO0\"] = 1\n",
    "                data_general.at[index, \"POSITION_VENDER_T0\"] = 0\n",
    "                data_general.at[index, \"POSITION_COMPRAR_T2\"] = 0\n",
    "                data_general.at[index, \"POSITION_VENDER_T2\"] = -1\n",
    "                contar_comprart0_vendert2+=1\n",
    "    else:\n",
    "        data_general.at[index, \"POSITION_COMPRAR_T0\"] = 0\n",
    "        data_general.at[index, \"POSITION_VENDER_T0\"] = 0\n",
    "        data_general.at[index, \"POSITION_COMPRAR_T2\"] = 0\n",
    "        data_general.at[index, \"POSITION_VENDER_T2\"] = 0"
   ]
  },
  {
   "cell_type": "code",
   "execution_count": 85,
   "id": "59e322ae",
   "metadata": {},
   "outputs": [
    {
     "data": {
      "text/plain": [
       "1940"
      ]
     },
     "execution_count": 85,
     "metadata": {},
     "output_type": "execute_result"
    }
   ],
   "source": [
    "contar_comprart0_vendert2"
   ]
  },
  {
   "cell_type": "code",
   "execution_count": 86,
   "id": "98501e6c",
   "metadata": {},
   "outputs": [
    {
     "data": {
      "text/plain": [
       "1"
      ]
     },
     "execution_count": 86,
     "metadata": {},
     "output_type": "execute_result"
    }
   ],
   "source": [
    "contar_vender0_comprar_t2"
   ]
  },
  {
   "cell_type": "code",
   "execution_count": null,
   "id": "7bccdc6f",
   "metadata": {},
   "outputs": [],
   "source": []
  }
 ],
 "metadata": {
  "kernelspec": {
   "display_name": "Python 3 (ipykernel)",
   "language": "python",
   "name": "python3"
  },
  "language_info": {
   "codemirror_mode": {
    "name": "ipython",
    "version": 3
   },
   "file_extension": ".py",
   "mimetype": "text/x-python",
   "name": "python",
   "nbconvert_exporter": "python",
   "pygments_lexer": "ipython3",
   "version": "3.8.12"
  }
 },
 "nbformat": 4,
 "nbformat_minor": 5
}
